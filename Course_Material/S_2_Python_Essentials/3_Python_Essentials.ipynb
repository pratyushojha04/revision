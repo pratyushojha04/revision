{
 "cells": [
  {
   "cell_type": "markdown",
   "metadata": {},
   "source": [
    "<a href='http://www.scienceacademy.ca'> <img style=\"float: left;height:70px\" src=\"Logo_SA.png\"></a>"
   ]
  },
  {
   "cell_type": "markdown",
   "metadata": {},
   "source": [
    "# Python Essentials (Part:3)\n",
    "\n",
    "Hi guys,\n",
    "Welcome to the Python Essentials part 3 lecture. <br>\n",
    "\n",
    "In this lecture, we will go through the following very important concepts:\n",
    "\n",
    "* `Loops (while & for) & range()`\n",
    "* `List Comprehension`\n",
    "* `Functions and Lambda Expressions`\n",
    "* `Map and Filter`"
   ]
  },
  {
   "cell_type": "markdown",
   "metadata": {},
   "source": [
    "Let's start with\n",
    "## Loops\n",
    "In loops, based on the mentioned condition, the statement/s perform an action over and over. **while** and **for** are the two main loops in Python for this purpose.<br>"
   ]
  },
  {
   "cell_type": "markdown",
   "metadata": {},
   "source": [
    "### while loop \n",
    "**continually performed an action, until some condition has been met**<br>\n",
    "Python keeps evaluating the `test expression (loop test)` before executing the statement/s, until the test returns a `False` value. The statement/s are nested in the body of the loop."
   ]
  },
  {
   "cell_type": "code",
   "execution_count": 1,
   "metadata": {},
   "outputs": [
    {
     "name": "stdout",
     "output_type": "stream",
     "text": [
      "The value of i is: 1\n",
      "The value of i is: 2\n",
      "The value of i is: 3\n",
      "The value of i is: 4\n"
     ]
    }
   ],
   "source": [
    "# A simple while loop \n",
    "i = 1 # initializing a variable i = 1\n",
    "while i < 5: # loop test\n",
    "    # Run the block of code (given below), till \"i < 5\"\n",
    "    print('The value of i is: {}'.format(i)) # recall, placeholder with format()!\n",
    "    i = i+1 # increase i by one for each iteration"
   ]
  },
  {
   "cell_type": "markdown",
   "metadata": {},
   "source": [
    "if we don't have `i = i+1` statement, we will get into an **infinite while loop**, because `i` will alway be less than 5.<br>\n",
    "\n",
    "\n",
    "**Note**:<br>\n",
    "*If you get into the infinite while loop, you will notice a continuous out put or Asterisk on left side of your cell in the jupyter notebook for a very long time* **\"`In [*]`\"** . <br>\n",
    "*Go to the Kernel and restart to get out of this situation.*<br>"
   ]
  },
  {
   "cell_type": "markdown",
   "metadata": {},
   "source": [
    "#### A nice and cleaner way of exiting the while loop is using else statement (optional):"
   ]
  },
  {
   "cell_type": "code",
   "execution_count": 2,
   "metadata": {},
   "outputs": [
    {
     "name": "stdout",
     "output_type": "stream",
     "text": [
      "The value of i is: 1\n",
      "The value of i is: 2\n",
      "The value of i is: 3\n",
      "The value of i is: 4\n",
      "Exit loop\n"
     ]
    }
   ],
   "source": [
    "i = 1\n",
    "while i < 5:\n",
    "    print('The value of i is: {}'.format(i)) \n",
    "    i = i+1 \n",
    "else:\n",
    "    print('Exit loop')"
   ]
  },
  {
   "cell_type": "markdown",
   "metadata": {},
   "source": [
    "### for loop \n",
    "for loop allow us to iterate through a sequence. <br>\n",
    "The **`for`** statement works on `strings`, `lists`, `tuples` and other built-in `iterables`, as well as on new `user-defined objects`. "
   ]
  },
  {
   "cell_type": "markdown",
   "metadata": {},
   "source": [
    "Let's create a list `my_list` of numbers and run a `for` loop using that list."
   ]
  },
  {
   "cell_type": "code",
   "execution_count": 3,
   "metadata": {},
   "outputs": [],
   "source": [
    " my_list = [1,2,3,4,5]"
   ]
  },
  {
   "cell_type": "markdown",
   "metadata": {},
   "source": [
    "In a very simple situation, we can execute some block of code using `for` loop for every single item in my_list, let's try this out! "
   ]
  },
  {
   "cell_type": "code",
   "execution_count": 4,
   "metadata": {},
   "outputs": [
    {
     "name": "stdout",
     "output_type": "stream",
     "text": [
      "1\n",
      "2\n",
      "3\n",
      "4\n",
      "5\n"
     ]
    }
   ],
   "source": [
    "for item in my_list:\n",
    "    print(item)"
   ]
  },
  {
   "cell_type": "markdown",
   "metadata": {},
   "source": [
    "**Note:**<br>\n",
    "*The temporary variable* **\"item\"** *can be whatever you want e.g. i, a, x, name, num etc.*<br>\n",
    "A good practice is to use it carefully so that you can remember and whenever you come back to check the code, you can understand what you have written.<br>\n",
    "*A good selection in this case is* **\"num\"**, *because we have numbers in my_list*.<br>\n",
    "\n",
    "Another useful trick is, ***always use comments in your code, this is a great way to remember and also helpful while working in a team.*** <br>"
   ]
  },
  {
   "cell_type": "code",
   "execution_count": 5,
   "metadata": {},
   "outputs": [
    {
     "name": "stdout",
     "output_type": "stream",
     "text": [
      "Hello world\n",
      "Hello world\n",
      "Hello world\n",
      "Hello world\n",
      "Hello world\n"
     ]
    }
   ],
   "source": [
    "for num in my_list:\n",
    "    print('Hello world') "
   ]
  },
  {
   "cell_type": "markdown",
   "metadata": {},
   "source": [
    "Did you notice something? The block of code `print('Hello world')` does not need to be related to items in the sequence (`my_list` in this case), we can print anything, we want!<br>\n",
    "\n",
    "Let's print the square of the numbers in `my_list` using `for loop`!"
   ]
  },
  {
   "cell_type": "code",
   "execution_count": 6,
   "metadata": {},
   "outputs": [
    {
     "name": "stdout",
     "output_type": "stream",
     "text": [
      "1\n",
      "4\n",
      "9\n",
      "16\n",
      "25\n"
     ]
    }
   ],
   "source": [
    "# printing square of the numbers in my_list.\n",
    "for num in my_list:\n",
    "    print(num**2)"
   ]
  },
  {
   "cell_type": "markdown",
   "metadata": {},
   "source": [
    "This was all about while and for loops at the moment!<br><br>\n",
    "**A quick reminder**: While working in jupyter notebook, `<shift + tab>` is always useful to print the document string of the related method.\n",
    "\n",
    "### `range( )`: \n",
    "\n",
    "After discussing loops, its time to introduce a very useful loop-related function **range( )**. <br>\n",
    "* Rather than creating a sequence (specially in for loops), we can use `range()`, which is a generator of numerical values.<br>\n",
    "* **With one argument**, `range` generates a list of integers from zero up to, but not including, the argument's value. <br>\n",
    "* **With two arguments**, the first is taken as the lower bound (start). <br>\n",
    "* We can give a **third argument as a step**, which is optional. If the third argument is provided, Python adds the step to each successive integer in the result (the default value of step is +1)."
   ]
  },
  {
   "cell_type": "code",
   "execution_count": 7,
   "metadata": {},
   "outputs": [
    {
     "data": {
      "text/plain": [
       "range(0, 5)"
      ]
     },
     "execution_count": 7,
     "metadata": {},
     "output_type": "execute_result"
    }
   ],
   "source": [
    "# This will give the range object, which is iterable.\n",
    "range(5)"
   ]
  },
  {
   "cell_type": "code",
   "execution_count": 8,
   "metadata": {},
   "outputs": [
    {
     "data": {
      "text/plain": [
       "[0, 1, 2, 3, 4]"
      ]
     },
     "execution_count": 8,
     "metadata": {},
     "output_type": "execute_result"
    }
   ],
   "source": [
    "# With method \"list\", we can convert the range object into a list\n",
    "list(range(5))"
   ]
  },
  {
   "cell_type": "code",
   "execution_count": 9,
   "metadata": {},
   "outputs": [
    {
     "name": "stdout",
     "output_type": "stream",
     "text": [
      "0\n",
      "1\n",
      "2\n",
      "3\n",
      "4\n"
     ]
    }
   ],
   "source": [
    "# Use of range(), with single argument, in a loop\n",
    "for i in range(5):\n",
    "    print(i)"
   ]
  },
  {
   "cell_type": "code",
   "execution_count": 10,
   "metadata": {},
   "outputs": [
    {
     "name": "stdout",
     "output_type": "stream",
     "text": [
      "3\n",
      "4\n"
     ]
    }
   ],
   "source": [
    "# Use of range(), with two argument, in a loop\n",
    "for i in range(3,5):\n",
    "    print(i)"
   ]
  },
  {
   "cell_type": "code",
   "execution_count": 11,
   "metadata": {},
   "outputs": [
    {
     "name": "stdout",
     "output_type": "stream",
     "text": [
      "1\n",
      "3\n",
      "5\n",
      "7\n",
      "9\n"
     ]
    }
   ],
   "source": [
    "# Use of range(), with three argument, in a loop\n",
    "for i in range(1,10,2):\n",
    "    print(i)"
   ]
  },
  {
   "cell_type": "markdown",
   "metadata": {},
   "source": [
    "## List Comprehension\n",
    "\n",
    "Do you remember the basic mathematics ?<br>\n",
    "* {x² | x ∈ ℕ } gives the squares of the natural numbers:<br>\n",
    "* {x² : x in {0 ... 9}} gives the squares of numbers with in the provided set, {0 ... 9}.<br>\n",
    "\n",
    "**List comprehension** implements such well-known notations for sets. It is an elegant and concise way to define and create list in Python, and off-course, it saves typing as well!\n",
    "* Syntax: `\"statement/expression\"` followed by a `\"for clause\"` with in `\"square brackets\"`. "
   ]
  },
  {
   "cell_type": "code",
   "execution_count": 12,
   "metadata": {},
   "outputs": [],
   "source": [
    "# We have a list 'x'\n",
    "x = [2,3,4,5]"
   ]
  },
  {
   "cell_type": "markdown",
   "metadata": {},
   "source": [
    "Now, we want to create a new list that contains the squares of the elements in x, we can do this using a for loop."
   ]
  },
  {
   "cell_type": "code",
   "execution_count": 13,
   "metadata": {},
   "outputs": [
    {
     "name": "stdout",
     "output_type": "stream",
     "text": [
      "[4, 9, 16, 25]\n"
     ]
    }
   ],
   "source": [
    "out = [] # empty list for squares\n",
    "for num in x: # loop test   \n",
    "    out.append(num**2) # taking squeares and appending them to the empty list \"out\"\n",
    "print(out) # using print to get the output"
   ]
  },
  {
   "cell_type": "markdown",
   "metadata": {},
   "source": [
    "Ok, we have accomplished the task to compute squares using `for` loop, however, the above task can be elegantly implemented using a list comprehension in a one line of code.<br>\n",
    "Simply take `for statement` and put it after what you want in result!"
   ]
  },
  {
   "cell_type": "code",
   "execution_count": 14,
   "metadata": {},
   "outputs": [
    {
     "data": {
      "text/plain": [
       "[4, 9, 16, 25]"
      ]
     },
     "execution_count": 14,
     "metadata": {},
     "output_type": "execute_result"
    }
   ],
   "source": [
    "[num**2 for num in x]"
   ]
  },
  {
   "cell_type": "code",
   "execution_count": 15,
   "metadata": {},
   "outputs": [
    {
     "data": {
      "text/plain": [
       "['H', 'e', 'l', 'l', 'o', ' ', 'W', 'o', 'r', 'l', 'd']"
      ]
     },
     "execution_count": 15,
     "metadata": {},
     "output_type": "execute_result"
    }
   ],
   "source": [
    "# Another example using string -- note the white space!\n",
    "[letters for letters in 'Hello World']"
   ]
  },
  {
   "cell_type": "code",
   "execution_count": 16,
   "metadata": {},
   "outputs": [
    {
     "data": {
      "text/plain": [
       "[4, 9, 16, 25, 36, 49, 64, 81]"
      ]
     },
     "execution_count": 16,
     "metadata": {},
     "output_type": "execute_result"
    }
   ],
   "source": [
    "# one more example using range()\n",
    "[numbers**2 for numbers in range(2,10)]"
   ]
  },
  {
   "cell_type": "markdown",
   "metadata": {},
   "source": [
    "## Functions:\n",
    "You may have come across `functions` in other computer languages, where they may have been called `subroutines` or `procedures`. <br>\n",
    "\n",
    "**Functions serve two primary development roles:**<br>\n",
    "* Maximizing code reuse and minimizing redundancy\n",
    "* Procedural decomposition by splitting systems into pieces that have well-defined roles.\n",
    "\n",
    "Functions reduce our future work radically and if the operation must be changed later, we only have to update one copy in the function, not many scattered copies throughout the code.<br>\n",
    "\n",
    "In Python, **`\"def\"`** creates a function object and assigns it to a name."
   ]
  },
  {
   "cell_type": "code",
   "execution_count": 17,
   "metadata": {},
   "outputs": [],
   "source": [
    "# A simplest example of a function is:\n",
    "def function_name(pram1):\n",
    "    \"\"\"\n",
    "    Body: Statements to execute  \n",
    "    \"\"\"\n",
    "    print(pram1) # this will print the pram1 only\n",
    "    # We can concatenate two string together with + sign.\n",
    "    print(pram1 +', this is Python') # this will print the concatenated string"
   ]
  },
  {
   "cell_type": "markdown",
   "metadata": {},
   "source": [
    "Once, the function is defined, we can call with its name in our code. In our defined function, `pram1` in the parameter that we need to pass while calling the function `function_name`."
   ]
  },
  {
   "cell_type": "code",
   "execution_count": 18,
   "metadata": {},
   "outputs": [
    {
     "name": "stdout",
     "output_type": "stream",
     "text": [
      "Hello world\n",
      "Hello world, this is Python\n"
     ]
    }
   ],
   "source": [
    "# function call with its name\n",
    "function_name('Hello world')"
   ]
  },
  {
   "cell_type": "markdown",
   "metadata": {},
   "source": [
    "If we don't pass the parameter, we will get the error!"
   ]
  },
  {
   "cell_type": "code",
   "execution_count": 19,
   "metadata": {
    "scrolled": true
   },
   "outputs": [
    {
     "ename": "TypeError",
     "evalue": "function_name() missing 1 required positional argument: 'pram1'",
     "output_type": "error",
     "traceback": [
      "\u001b[0;31m---------------------------------------------------------------------------\u001b[0m",
      "\u001b[0;31mTypeError\u001b[0m                                 Traceback (most recent call last)",
      "\u001b[0;32m<ipython-input-19-3ebaf5bfef59>\u001b[0m in \u001b[0;36m<module>\u001b[0;34m\u001b[0m\n\u001b[1;32m      1\u001b[0m \u001b[0;31m# function call without parameter\u001b[0m\u001b[0;34m\u001b[0m\u001b[0;34m\u001b[0m\u001b[0;34m\u001b[0m\u001b[0m\n\u001b[0;32m----> 2\u001b[0;31m \u001b[0mfunction_name\u001b[0m\u001b[0;34m(\u001b[0m\u001b[0;34m)\u001b[0m\u001b[0;34m\u001b[0m\u001b[0;34m\u001b[0m\u001b[0m\n\u001b[0m",
      "\u001b[0;31mTypeError\u001b[0m: function_name() missing 1 required positional argument: 'pram1'"
     ]
    }
   ],
   "source": [
    "# function call without parameter\n",
    "function_name()"
   ]
  },
  {
   "cell_type": "markdown",
   "metadata": {},
   "source": [
    "We can use a default value for the parameter pram1. "
   ]
  },
  {
   "cell_type": "code",
   "execution_count": 20,
   "metadata": {},
   "outputs": [],
   "source": [
    "def function_name(pram1 = 'Default Value'):\n",
    "    print(pram1)\n",
    "    # We can concatenate two string together with + sign.\n",
    "    print(pram1 +', this is Python')"
   ]
  },
  {
   "cell_type": "markdown",
   "metadata": {},
   "source": [
    "Now if we don't pass the parameter during the function call, it will print the `Default Value`."
   ]
  },
  {
   "cell_type": "code",
   "execution_count": 21,
   "metadata": {
    "scrolled": true
   },
   "outputs": [
    {
     "name": "stdout",
     "output_type": "stream",
     "text": [
      "Default Value\n",
      "Default Value, this is Python\n"
     ]
    }
   ],
   "source": [
    "# Function call without the parameter\n",
    "function_name()"
   ]
  },
  {
   "cell_type": "markdown",
   "metadata": {},
   "source": [
    "If we pass the parameter, it will replace the `Default Value`."
   ]
  },
  {
   "cell_type": "code",
   "execution_count": 22,
   "metadata": {},
   "outputs": [
    {
     "name": "stdout",
     "output_type": "stream",
     "text": [
      "Hi\n",
      "Hi, this is Python\n"
     ]
    }
   ],
   "source": [
    "function_name('Hi') # or function_name(pram1='Hi')"
   ]
  },
  {
   "cell_type": "markdown",
   "metadata": {},
   "source": [
    "<font style=\"font-size:14px;color:green;\"><br>\n",
    "&#9758; **Good to know!**<br>\n",
    "The terms parameter and argument may have different meanings in different programming languages. Sometimes they are used interchangeably, and the context is used to distinguish the meaning. The term parameter (sometimes called formal parameter) is often used to refer to the variable as found in the function definition, while argument (sometimes called actual parameter) refers to the actual input supplied at function call. <br>\n",
    "For example, if one defines a function as `def f(x): ...`, then `x` is the parameter, and if it is called by `a = ...;` `f(a)` then `a` is the argument.\n",
    "</font>"
   ]
  },
  {
   "cell_type": "markdown",
   "metadata": {},
   "source": [
    "**Lets create a function that takes two parameters and returns the multiplication of the numbers.**"
   ]
  },
  {
   "cell_type": "code",
   "execution_count": 23,
   "metadata": {},
   "outputs": [],
   "source": [
    "# function returns the result\n",
    "def my_func(num1, num2):\n",
    "    num = num1*num2\n",
    "    return num\n",
    "# we can write \"return num1**num2\" in a single line as well "
   ]
  },
  {
   "cell_type": "code",
   "execution_count": 24,
   "metadata": {},
   "outputs": [
    {
     "data": {
      "text/plain": [
       "6"
      ]
     },
     "execution_count": 24,
     "metadata": {},
     "output_type": "execute_result"
    }
   ],
   "source": [
    "# Function call\n",
    "my_func(2,3)"
   ]
  },
  {
   "cell_type": "markdown",
   "metadata": {},
   "source": [
    "We can get the results from our function in a variable and print that variable, let's try! "
   ]
  },
  {
   "cell_type": "code",
   "execution_count": 25,
   "metadata": {},
   "outputs": [
    {
     "name": "stdout",
     "output_type": "stream",
     "text": [
      "6\n"
     ]
    }
   ],
   "source": [
    "out = my_func(2,3)\n",
    "print(out)"
   ]
  },
  {
   "cell_type": "markdown",
   "metadata": {},
   "source": [
    "Functions can have documentation strings enclosed b/w **`\"\"\"doc\"\"\"`**<br> *I want to say, a function should have a document string.*\n",
    "For example:"
   ]
  },
  {
   "cell_type": "code",
   "execution_count": 26,
   "metadata": {},
   "outputs": [],
   "source": [
    "def my_func(num1, num2):\n",
    "    \"\"\"\n",
    "    These docstrings are very useful\n",
    "    Jupyter has a great feature for these strings\n",
    "    write function name, and click shift + tab\n",
    "    my_func -- shift + tab\n",
    "    You will see these doc string\n",
    "    \"\"\"\n",
    "    return num1**3 "
   ]
  },
  {
   "cell_type": "code",
   "execution_count": 27,
   "metadata": {},
   "outputs": [
    {
     "data": {
      "text/plain": [
       "<function __main__.my_func(num1, num2)>"
      ]
     },
     "execution_count": 27,
     "metadata": {},
     "output_type": "execute_result"
    }
   ],
   "source": [
    "# mu_func - then press shift + tab to see the doc string\n",
    "my_func"
   ]
  },
  {
   "cell_type": "markdown",
   "metadata": {},
   "source": [
    "<b>DocStrings</b> are very useful, specially for built-in functions.<br>\n",
    "For example, if we type **`range`** and click `<shift+tab>`, we will see the documentation of **`range`**, we don't need to memorize this all! **We will be using this feature lots of time in this course at later stage**"
   ]
  },
  {
   "cell_type": "markdown",
   "metadata": {},
   "source": [
    "## Lambda expression\n",
    "Now we know the basics about function, we can move on to learn `\"lambda expression\"`.<br>\n",
    "* The lambda expression is a way to create small **anonymous** functions, i.e. **functions without a name**. <br>\n",
    "* These **throw-away functions** are created where we need them. <br>\n",
    "* Lambda expressions are mainly used in combination with the `filter()` and `map()` built-in functions. <br>\n",
    "\n",
    "General syntax of a lambda expression is: **`lambda argument_list: expression`** <br>\n",
    "* The **argument list** consists of a comma separated list of arguments. <br>\n",
    "* The **expression is** an arithmetic expression using these arguments. <br>\n",
    "\n",
    "We can assign \"`lambda expression`\" to a variable to give it a name. "
   ]
  },
  {
   "cell_type": "markdown",
   "metadata": {},
   "source": [
    "Lets write a function, which return square of a number and then re-write that function to a lambda expression. <br>\n",
    "**This is easy!**"
   ]
  },
  {
   "cell_type": "code",
   "execution_count": 28,
   "metadata": {},
   "outputs": [],
   "source": [
    "# Function to compute square\n",
    "def square(num):\n",
    "    return num**2"
   ]
  },
  {
   "cell_type": "code",
   "execution_count": 29,
   "metadata": {},
   "outputs": [
    {
     "data": {
      "text/plain": [
       "16"
      ]
     },
     "execution_count": 29,
     "metadata": {},
     "output_type": "execute_result"
    }
   ],
   "source": [
    "# Function call using its name 'square' and a required parameter\n",
    "square (4)"
   ]
  },
  {
   "cell_type": "markdown",
   "metadata": {},
   "source": [
    "Let's re-arrange the above function `square` in a single line."
   ]
  },
  {
   "cell_type": "code",
   "execution_count": 30,
   "metadata": {},
   "outputs": [
    {
     "data": {
      "text/plain": [
       "16"
      ]
     },
     "execution_count": 30,
     "metadata": {},
     "output_type": "execute_result"
    }
   ],
   "source": [
    "def square(num):return num**2\n",
    "square (4)"
   ]
  },
  {
   "cell_type": "markdown",
   "metadata": {},
   "source": [
    "Now, let's convert this one line function `def square(num):return num**2` into a lambda expression<br>\n",
    "**Steps to re-write above function to a lambda expression**\n",
    "* replace **`def`** with **`lambda`**\n",
    "* delete function name \"`square`\"\n",
    "* remove \"`()`\" around num\n",
    "* delete `return`<br>\n",
    "\n",
    "It's your lambda expression<br>\n",
    "***We will use lambda expressions a lot in our pandas library***"
   ]
  },
  {
   "cell_type": "code",
   "execution_count": 31,
   "metadata": {},
   "outputs": [
    {
     "data": {
      "text/plain": [
       "<function __main__.<lambda>(num)>"
      ]
     },
     "execution_count": 31,
     "metadata": {},
     "output_type": "execute_result"
    }
   ],
   "source": [
    "lambda num : num*2\n",
    "# hold-on, we will use this expression in map and filter to understand in details"
   ]
  },
  {
   "cell_type": "markdown",
   "metadata": {},
   "source": [
    "## `map` & `filter`"
   ]
  },
  {
   "cell_type": "markdown",
   "metadata": {},
   "source": [
    "Let's talk about `map` and `filter` now. <br>\n",
    "We have seen that we can compute the squares of the numbers in a list using `for` loop. To do this, we need to follow the following steps:\n",
    "\n",
    "* create an empty list\n",
    "* Iterate over `my_list` in a `for` loop.\n",
    "* append square of each number to the empty list.\n",
    "\n",
    "Lets try to do the above tasks with `for` loop, **This is tedious!**"
   ]
  },
  {
   "cell_type": "code",
   "execution_count": 32,
   "metadata": {},
   "outputs": [
    {
     "name": "stdout",
     "output_type": "stream",
     "text": [
      "[1, 4, 9, 16, 25]\n"
     ]
    }
   ],
   "source": [
    "my_list = [1,2,3,4,5]\n",
    "num_sq = []\n",
    "for num in my_list:\n",
    "    num_sq.append(num**2)\n",
    "print (num_sq)"
   ]
  },
  {
   "cell_type": "markdown",
   "metadata": {},
   "source": [
    "***The task above can be much simplified using `map()`***, let's try to understand how?"
   ]
  },
  {
   "cell_type": "markdown",
   "metadata": {},
   "source": [
    "### `map()`\n",
    "\n",
    "* `map()` is a function with two arguments, `a function` and `a sequence` (e.g. list).<br>\n",
    "* it maps a function to every element in a sequence\n",
    "\n",
    "We have recently created a function \"`square()`\" and our sequence is \"my_list\". <br>\n",
    "Lets pass **\"`square`\"** and **\"`my_list`\"** to **`map()`**"
   ]
  },
  {
   "cell_type": "code",
   "execution_count": 33,
   "metadata": {},
   "outputs": [
    {
     "data": {
      "text/plain": [
       "[1, 4, 9, 16, 25]"
      ]
     },
     "execution_count": 33,
     "metadata": {},
     "output_type": "execute_result"
    }
   ],
   "source": [
    "result = map(square, my_list)\n",
    "list(result)\n",
    "# list(map(square, my_list)) # in a sinlge line!"
   ]
  },
  {
   "cell_type": "markdown",
   "metadata": {},
   "source": [
    "**lambda works great with `map()`**. For example, we don't want to write and store a function `square` as this is a one-time use only. <br>\n",
    "Better to use lambda in this case, as given below!<br>"
   ]
  },
  {
   "cell_type": "code",
   "execution_count": 34,
   "metadata": {},
   "outputs": [
    {
     "data": {
      "text/plain": [
       "[1, 4, 9, 16, 25]"
      ]
     },
     "execution_count": 34,
     "metadata": {},
     "output_type": "execute_result"
    }
   ],
   "source": [
    "list(map(lambda num:num**2, my_list)) # casting to the list to get the result back"
   ]
  },
  {
   "cell_type": "markdown",
   "metadata": {},
   "source": [
    "`map()` can be applied to more than 1 lists!"
   ]
  },
  {
   "cell_type": "code",
   "execution_count": 35,
   "metadata": {},
   "outputs": [
    {
     "data": {
      "text/plain": [
       "[17, 10, 19, 23]"
      ]
     },
     "execution_count": 35,
     "metadata": {},
     "output_type": "execute_result"
    }
   ],
   "source": [
    "a = [1,2,3,4]\n",
    "b = [17,12,11,10]\n",
    "c = [-1,-4,5,9]\n",
    "list(map(lambda x, y, z : x + y + z, a, b, c))\n",
    "#list(map(lambda a, b, c : a + b + c, a, b, c))"
   ]
  },
  {
   "cell_type": "markdown",
   "metadata": {},
   "source": [
    "### `fliter()`\n",
    "\n",
    "Filter is another very useful built-in function and provides an elegant and smarter way of filtering out all the elements in the provided list, for which `filter()` returns True. <br>\n",
    "* It takes two arguments, a function or `lambda expression` and a `list`.<br> \n",
    "* Its first argument returns Boolean value, `True` or `False`.<br>\n",
    "* The function (argument 1) will be applied to every element of the list (argument 2). If the the function (argument 1) returns `True`, for the element in list (argument 2), the element will be included in the result list.\n",
    "\n",
    "For example, let's filter out the even number from 0 to 10, we can use `range()` here! :)"
   ]
  },
  {
   "cell_type": "code",
   "execution_count": 36,
   "metadata": {},
   "outputs": [
    {
     "data": {
      "text/plain": [
       "[2, 4, 6, 8]"
      ]
     },
     "execution_count": 36,
     "metadata": {},
     "output_type": "execute_result"
    }
   ],
   "source": [
    "# \"we are using range function here!\"\n",
    "list(filter(lambda num: num % 2 == 0, range(1,10))) # casting to the list to get the result back"
   ]
  },
  {
   "cell_type": "markdown",
   "metadata": {},
   "source": [
    "## Great job guys! \n",
    "\n",
    "We are done with the Python Essentials section, time to do some practice and test our skills. <br>\n",
    "In the next lecture, we will have a quick overview on the Python Essentials exercises. It's recommended to try them out without looking at the solutions, that we will discuss later on.<br>\n",
    "\n",
    "#### See you in the next lecture, Good Luck!"
   ]
  }
 ],
 "metadata": {
  "kernelspec": {
   "display_name": "Python 3",
   "language": "python",
   "name": "python3"
  },
  "language_info": {
   "codemirror_mode": {
    "name": "ipython",
    "version": 3
   },
   "file_extension": ".py",
   "mimetype": "text/x-python",
   "name": "python",
   "nbconvert_exporter": "python",
   "pygments_lexer": "ipython3",
   "version": "3.7.4"
  }
 },
 "nbformat": 4,
 "nbformat_minor": 1
}
